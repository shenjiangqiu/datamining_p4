{
 "cells": [
  {
   "cell_type": "markdown",
   "source": [
    "# project 4\n",
    "## 1.  (1 point)  List your project GroupName and all group members names.\n",
    "group name:\n",
    "\n",
    "Jiangqiu Shen, Yifu Deng, Zhiyuan Lu"
   ],
   "metadata": {
    "collapsed": false,
    "pycharm": {
     "name": "#%% md\n"
    }
   }
  },
  {
   "cell_type": "markdown",
   "source": [
    "## 2.a"
   ],
   "metadata": {
    "collapsed": false,
    "pycharm": {
     "name": "#%% md\n"
    }
   }
  },
  {
   "cell_type": "code",
   "execution_count": 10,
   "outputs": [
    {
     "data": {
      "text/plain": "      in_collection  Action  Adventure  Animation  Comedy  Crime  Documentary  \\\n0                 1       0          0          0       1      0            0   \n1                 1       0          0          0       1      0            0   \n2                 0       0          0          0       0      0            0   \n3                 0       0          0          0       0      0            0   \n4                 0       1          0          0       0      0            0   \n...             ...     ...        ...        ...     ...    ...          ...   \n7393              0       0          0          0       0      0            0   \n7394              1       1          1          0       1      0            0   \n7395              0       0          0          0       0      0            0   \n7396              0       0          0          0       0      0            0   \n7397              0       0          0          0       0      0            0   \n\n      Drama  Family  Fantasy  ...  Apr  May  Jun  Jul  Aug  Sep  Oct  Nov  \\\n0         0       0        0  ...    0    0    0    0    0    0    0    0   \n1         1       1        0  ...    0    0    0    0    1    0    0    0   \n2         1       0        0  ...    0    0    0    0    0    0    1    0   \n3         1       0        0  ...    0    0    0    0    0    0    0    0   \n4         0       0        0  ...    0    0    0    0    0    0    0    0   \n...     ...     ...      ...  ...  ...  ...  ...  ...  ...  ...  ...  ...   \n7393      0       0        0  ...    0    0    0    0    1    0    0    0   \n7394      0       0        0  ...    0    0    0    0    1    0    0    0   \n7395      1       0        0  ...    0    0    0    0    0    0    0    0   \n7396      0       0        0  ...    0    0    0    0    0    0    0    0   \n7397      1       0        0  ...    0    0    0    0    0    1    0    0   \n\n      Dec  Hit  \n0       0    0  \n1       0    0  \n2       0    0  \n3       0    1  \n4       0    1  \n...   ...  ...  \n7393    0    0  \n7394    0    0  \n7395    1    0  \n7396    0    0  \n7397    0    0  \n\n[7398 rows x 86 columns]",
      "text/html": "<div>\n<style scoped>\n    .dataframe tbody tr th:only-of-type {\n        vertical-align: middle;\n    }\n\n    .dataframe tbody tr th {\n        vertical-align: top;\n    }\n\n    .dataframe thead th {\n        text-align: right;\n    }\n</style>\n<table border=\"1\" class=\"dataframe\">\n  <thead>\n    <tr style=\"text-align: right;\">\n      <th></th>\n      <th>in_collection</th>\n      <th>Action</th>\n      <th>Adventure</th>\n      <th>Animation</th>\n      <th>Comedy</th>\n      <th>Crime</th>\n      <th>Documentary</th>\n      <th>Drama</th>\n      <th>Family</th>\n      <th>Fantasy</th>\n      <th>...</th>\n      <th>Apr</th>\n      <th>May</th>\n      <th>Jun</th>\n      <th>Jul</th>\n      <th>Aug</th>\n      <th>Sep</th>\n      <th>Oct</th>\n      <th>Nov</th>\n      <th>Dec</th>\n      <th>Hit</th>\n    </tr>\n  </thead>\n  <tbody>\n    <tr>\n      <th>0</th>\n      <td>1</td>\n      <td>0</td>\n      <td>0</td>\n      <td>0</td>\n      <td>1</td>\n      <td>0</td>\n      <td>0</td>\n      <td>0</td>\n      <td>0</td>\n      <td>0</td>\n      <td>...</td>\n      <td>0</td>\n      <td>0</td>\n      <td>0</td>\n      <td>0</td>\n      <td>0</td>\n      <td>0</td>\n      <td>0</td>\n      <td>0</td>\n      <td>0</td>\n      <td>0</td>\n    </tr>\n    <tr>\n      <th>1</th>\n      <td>1</td>\n      <td>0</td>\n      <td>0</td>\n      <td>0</td>\n      <td>1</td>\n      <td>0</td>\n      <td>0</td>\n      <td>1</td>\n      <td>1</td>\n      <td>0</td>\n      <td>...</td>\n      <td>0</td>\n      <td>0</td>\n      <td>0</td>\n      <td>0</td>\n      <td>1</td>\n      <td>0</td>\n      <td>0</td>\n      <td>0</td>\n      <td>0</td>\n      <td>0</td>\n    </tr>\n    <tr>\n      <th>2</th>\n      <td>0</td>\n      <td>0</td>\n      <td>0</td>\n      <td>0</td>\n      <td>0</td>\n      <td>0</td>\n      <td>0</td>\n      <td>1</td>\n      <td>0</td>\n      <td>0</td>\n      <td>...</td>\n      <td>0</td>\n      <td>0</td>\n      <td>0</td>\n      <td>0</td>\n      <td>0</td>\n      <td>0</td>\n      <td>1</td>\n      <td>0</td>\n      <td>0</td>\n      <td>0</td>\n    </tr>\n    <tr>\n      <th>3</th>\n      <td>0</td>\n      <td>0</td>\n      <td>0</td>\n      <td>0</td>\n      <td>0</td>\n      <td>0</td>\n      <td>0</td>\n      <td>1</td>\n      <td>0</td>\n      <td>0</td>\n      <td>...</td>\n      <td>0</td>\n      <td>0</td>\n      <td>0</td>\n      <td>0</td>\n      <td>0</td>\n      <td>0</td>\n      <td>0</td>\n      <td>0</td>\n      <td>0</td>\n      <td>1</td>\n    </tr>\n    <tr>\n      <th>4</th>\n      <td>0</td>\n      <td>1</td>\n      <td>0</td>\n      <td>0</td>\n      <td>0</td>\n      <td>0</td>\n      <td>0</td>\n      <td>0</td>\n      <td>0</td>\n      <td>0</td>\n      <td>...</td>\n      <td>0</td>\n      <td>0</td>\n      <td>0</td>\n      <td>0</td>\n      <td>0</td>\n      <td>0</td>\n      <td>0</td>\n      <td>0</td>\n      <td>0</td>\n      <td>1</td>\n    </tr>\n    <tr>\n      <th>...</th>\n      <td>...</td>\n      <td>...</td>\n      <td>...</td>\n      <td>...</td>\n      <td>...</td>\n      <td>...</td>\n      <td>...</td>\n      <td>...</td>\n      <td>...</td>\n      <td>...</td>\n      <td>...</td>\n      <td>...</td>\n      <td>...</td>\n      <td>...</td>\n      <td>...</td>\n      <td>...</td>\n      <td>...</td>\n      <td>...</td>\n      <td>...</td>\n      <td>...</td>\n      <td>...</td>\n    </tr>\n    <tr>\n      <th>7393</th>\n      <td>0</td>\n      <td>0</td>\n      <td>0</td>\n      <td>0</td>\n      <td>0</td>\n      <td>0</td>\n      <td>0</td>\n      <td>0</td>\n      <td>0</td>\n      <td>0</td>\n      <td>...</td>\n      <td>0</td>\n      <td>0</td>\n      <td>0</td>\n      <td>0</td>\n      <td>1</td>\n      <td>0</td>\n      <td>0</td>\n      <td>0</td>\n      <td>0</td>\n      <td>0</td>\n    </tr>\n    <tr>\n      <th>7394</th>\n      <td>1</td>\n      <td>1</td>\n      <td>1</td>\n      <td>0</td>\n      <td>1</td>\n      <td>0</td>\n      <td>0</td>\n      <td>0</td>\n      <td>0</td>\n      <td>0</td>\n      <td>...</td>\n      <td>0</td>\n      <td>0</td>\n      <td>0</td>\n      <td>0</td>\n      <td>1</td>\n      <td>0</td>\n      <td>0</td>\n      <td>0</td>\n      <td>0</td>\n      <td>0</td>\n    </tr>\n    <tr>\n      <th>7395</th>\n      <td>0</td>\n      <td>0</td>\n      <td>0</td>\n      <td>0</td>\n      <td>0</td>\n      <td>0</td>\n      <td>0</td>\n      <td>1</td>\n      <td>0</td>\n      <td>0</td>\n      <td>...</td>\n      <td>0</td>\n      <td>0</td>\n      <td>0</td>\n      <td>0</td>\n      <td>0</td>\n      <td>0</td>\n      <td>0</td>\n      <td>0</td>\n      <td>1</td>\n      <td>0</td>\n    </tr>\n    <tr>\n      <th>7396</th>\n      <td>0</td>\n      <td>0</td>\n      <td>0</td>\n      <td>0</td>\n      <td>0</td>\n      <td>0</td>\n      <td>0</td>\n      <td>0</td>\n      <td>0</td>\n      <td>0</td>\n      <td>...</td>\n      <td>0</td>\n      <td>0</td>\n      <td>0</td>\n      <td>0</td>\n      <td>0</td>\n      <td>0</td>\n      <td>0</td>\n      <td>0</td>\n      <td>0</td>\n      <td>0</td>\n    </tr>\n    <tr>\n      <th>7397</th>\n      <td>0</td>\n      <td>0</td>\n      <td>0</td>\n      <td>0</td>\n      <td>0</td>\n      <td>0</td>\n      <td>0</td>\n      <td>1</td>\n      <td>0</td>\n      <td>0</td>\n      <td>...</td>\n      <td>0</td>\n      <td>0</td>\n      <td>0</td>\n      <td>0</td>\n      <td>0</td>\n      <td>1</td>\n      <td>0</td>\n      <td>0</td>\n      <td>0</td>\n      <td>0</td>\n    </tr>\n  </tbody>\n</table>\n<p>7398 rows × 86 columns</p>\n</div>"
     },
     "execution_count": 10,
     "metadata": {},
     "output_type": "execute_result"
    }
   ],
   "source": [
    "import numpy as np\n",
    "from scipy import sparse\n",
    "import pandas as pd\n",
    "\n",
    "data=pd.read_csv(\"hit-movies.csv\")\n",
    "\n",
    "data_dropped=data.drop([\"original_title\",\"imdb_id\"],axis=1)\n",
    "data_dropped"
   ],
   "metadata": {
    "collapsed": false,
    "pycharm": {
     "name": "#%%\n"
    }
   }
  },
  {
   "cell_type": "markdown",
   "source": [
    "## 2.b"
   ],
   "metadata": {
    "collapsed": false,
    "pycharm": {
     "name": "#%% md\n"
    }
   }
  },
  {
   "cell_type": "code",
   "execution_count": 20,
   "outputs": [
    {
     "name": "stdout",
     "output_type": "stream",
     "text": [
      "      in_collection  Action  Adventure  Animation  Comedy  Crime  Documentary  \\\n",
      "0                 1       0          0          0       1      0            0   \n",
      "1                 1       0          0          0       1      0            0   \n",
      "2                 0       0          0          0       0      0            0   \n",
      "3                 0       0          0          0       0      0            0   \n",
      "4                 0       1          0          0       0      0            0   \n",
      "...             ...     ...        ...        ...     ...    ...          ...   \n",
      "7393              0       0          0          0       0      0            0   \n",
      "7394              1       1          1          0       1      0            0   \n",
      "7395              0       0          0          0       0      0            0   \n",
      "7396              0       0          0          0       0      0            0   \n",
      "7397              0       0          0          0       0      0            0   \n",
      "\n",
      "      Drama  Family  Fantasy  ...  Apr  May  Jun  Jul  Aug  Sep  Oct  Nov  \\\n",
      "0         0       0        0  ...    0    0    0    0    0    0    0    0   \n",
      "1         1       1        0  ...    0    0    0    0    1    0    0    0   \n",
      "2         1       0        0  ...    0    0    0    0    0    0    1    0   \n",
      "3         1       0        0  ...    0    0    0    0    0    0    0    0   \n",
      "4         0       0        0  ...    0    0    0    0    0    0    0    0   \n",
      "...     ...     ...      ...  ...  ...  ...  ...  ...  ...  ...  ...  ...   \n",
      "7393      0       0        0  ...    0    0    0    0    1    0    0    0   \n",
      "7394      0       0        0  ...    0    0    0    0    1    0    0    0   \n",
      "7395      1       0        0  ...    0    0    0    0    0    0    0    0   \n",
      "7396      0       0        0  ...    0    0    0    0    0    0    0    0   \n",
      "7397      1       0        0  ...    0    0    0    0    0    1    0    0   \n",
      "\n",
      "      Dec  Hit  \n",
      "0       0    0  \n",
      "1       0    0  \n",
      "2       0    0  \n",
      "3       0    1  \n",
      "4       0    1  \n",
      "...   ...  ...  \n",
      "7393    0    0  \n",
      "7394    0    0  \n",
      "7395    1    0  \n",
      "7396    0    0  \n",
      "7397    0    0  \n",
      "\n",
      "[7398 rows x 86 columns]\n",
      "[[1. 0. 0. ... 0. 0. 0.]\n",
      " [1. 0. 0. ... 0. 0. 0.]\n",
      " [0. 0. 0. ... 0. 0. 0.]\n",
      " ...\n",
      " [0. 0. 0. ... 0. 1. 0.]\n",
      " [0. 0. 0. ... 0. 0. 0.]\n",
      " [0. 0. 0. ... 0. 0. 0.]]\n"
     ]
    }
   ],
   "source": [
    "from sklearn.preprocessing import MinMaxScaler\n",
    "minMax=MinMaxScaler()\n",
    "minMax.fit(data_dropped)\n",
    "\n",
    "data_dropped_nom=minMax.transform(data_dropped)\n",
    "\n",
    "\n",
    "from sklearn import  model_selection\n",
    "k_fold=model_selection.KFold(10,shuffle=True)\n",
    "s=k_fold.split(data_dropped_nom)\n",
    "#in order to make the class evenly distributed, use Shuffle."
   ],
   "metadata": {
    "collapsed": false,
    "pycharm": {
     "name": "#%%\n"
    }
   }
  },
  {
   "cell_type": "markdown",
   "source": [
    "## 2.c-f"
   ],
   "metadata": {
    "collapsed": false,
    "pycharm": {
     "name": "#%% md\n"
    }
   }
  },
  {
   "cell_type": "code",
   "execution_count": 21,
   "outputs": [
    {
     "name": "stdout",
     "output_type": "stream",
     "text": [
      "{'0.0': {'precision': 0.8448540706605223, 'recall': 0.8943089430894309, 'f1-score': 0.8688783570300158, 'support': 615}, '1.0': {'precision': 0.2696629213483146, 'recall': 0.192, 'f1-score': 0.22429906542056074, 'support': 125}, 'accuracy': 0.7756756756756756, 'macro avg': {'precision': 0.5572584960044185, 'recall': 0.5431544715447154, 'f1-score': 0.5465887112252883, 'support': 740}, 'weighted avg': {'precision': 0.7476934035469738, 'recall': 0.7756756756756756, 'f1-score': 0.759996719933824, 'support': 740}}\n",
      "{'0.0': {'precision': 0.8297872340425532, 'recall': 0.9512195121951219, 'f1-score': 0.8863636363636364, 'support': 615}, '1.0': {'precision': 0.14285714285714285, 'recall': 0.04, 'f1-score': 0.0625, 'support': 125}, 'accuracy': 0.7972972972972973, 'macro avg': {'precision': 0.486322188449848, 'recall': 0.49560975609756097, 'f1-score': 0.4744318181818182, 'support': 740}, 'weighted avg': {'precision': 0.7137517456666393, 'recall': 0.7972972972972973, 'f1-score': 0.7471974815724816, 'support': 740}}\n",
      "{'0.0': {'precision': 0.8337950138504155, 'recall': 0.9788617886178862, 'f1-score': 0.9005235602094241, 'support': 615}, '1.0': {'precision': 0.2777777777777778, 'recall': 0.04, 'f1-score': 0.06993006993006994, 'support': 125}, 'accuracy': 0.8202702702702702, 'macro avg': {'precision': 0.5557863958140967, 'recall': 0.5094308943089431, 'f1-score': 0.485226815069747, 'support': 740}, 'weighted avg': {'precision': 0.7398731834327402, 'recall': 0.8202702702702702, 'f1-score': 0.760220605770344, 'support': 740}}\n",
      "{'0.0': {'precision': 0.865533230293663, 'recall': 0.896, 'f1-score': 0.8805031446540881, 'support': 625}, '1.0': {'precision': 0.3010752688172043, 'recall': 0.24347826086956523, 'f1-score': 0.2692307692307693, 'support': 115}, 'accuracy': 0.7945945945945946, 'macro avg': {'precision': 0.5833042495554337, 'recall': 0.5697391304347826, 'f1-score': 0.5748669569424287, 'support': 740}, 'weighted avg': {'precision': 0.7778134119561053, 'recall': 0.7945945945945946, 'f1-score': 0.7855081133383021, 'support': 740}}\n",
      "{'0.0': {'precision': 0.8591749644381224, 'recall': 0.9664, 'f1-score': 0.9096385542168676, 'support': 625}, '1.0': {'precision': 0.43243243243243246, 'recall': 0.1391304347826087, 'f1-score': 0.2105263157894737, 'support': 115}, 'accuracy': 0.8378378378378378, 'macro avg': {'precision': 0.6458036984352774, 'recall': 0.5527652173913044, 'f1-score': 0.5600824350031707, 'support': 740}, 'weighted avg': {'precision': 0.7928568682480488, 'recall': 0.8378378378378378, 'f1-score': 0.800992733380178, 'support': 740}}\n",
      "{'0.0': {'precision': 0.8524137931034482, 'recall': 0.9888, 'f1-score': 0.9155555555555556, 'support': 625}, '1.0': {'precision': 0.5333333333333333, 'recall': 0.06956521739130435, 'f1-score': 0.12307692307692307, 'support': 115}, 'accuracy': 0.845945945945946, 'macro avg': {'precision': 0.6928735632183908, 'recall': 0.5291826086956521, 'f1-score': 0.5193162393162393, 'support': 740}, 'weighted avg': {'precision': 0.8028269648959304, 'recall': 0.845945945945946, 'f1-score': 0.7924000924000926, 'support': 740}}\n",
      "{'0.0': {'precision': 0.8188736681887366, 'recall': 0.9011725293132329, 'f1-score': 0.8580542264752792, 'support': 597}, '1.0': {'precision': 0.2891566265060241, 'recall': 0.16783216783216784, 'f1-score': 0.21238938053097342, 'support': 143}, 'accuracy': 0.7594594594594595, 'macro avg': {'precision': 0.5540151473473803, 'recall': 0.5345023485727004, 'f1-score': 0.5352218035031263, 'support': 740}, 'weighted avg': {'precision': 0.716509429052753, 'recall': 0.7594594594594595, 'f1-score': 0.7332838575968526, 'support': 740}}\n",
      "{'0.0': {'precision': 0.8116343490304709, 'recall': 0.981574539363484, 'f1-score': 0.88855193328279, 'support': 597}, '1.0': {'precision': 0.3888888888888889, 'recall': 0.04895104895104895, 'f1-score': 0.08695652173913043, 'support': 143}, 'accuracy': 0.8013513513513514, 'macro avg': {'precision': 0.6002616189596799, 'recall': 0.5152627941572665, 'f1-score': 0.4877542275109602, 'support': 740}, 'weighted avg': {'precision': 0.7299416452463544, 'recall': 0.8013513513513514, 'f1-score': 0.7336490361871909, 'support': 740}}\n",
      "{'0.0': {'precision': 0.8090040927694406, 'recall': 0.9932998324958124, 'f1-score': 0.8917293233082706, 'support': 597}, '1.0': {'precision': 0.42857142857142855, 'recall': 0.02097902097902098, 'f1-score': 0.039999999999999994, 'support': 143}, 'accuracy': 0.8054054054054054, 'macro avg': {'precision': 0.6187877606704346, 'recall': 0.5071394267374167, 'f1-score': 0.4658646616541353, 'support': 740}, 'weighted avg': {'precision': 0.7354880509041491, 'recall': 0.8054054054054054, 'f1-score': 0.7271383865068075, 'support': 740}}\n",
      "{'0.0': {'precision': 0.8608169440242057, 'recall': 0.9118589743589743, 'f1-score': 0.8856031128404668, 'support': 624}, '1.0': {'precision': 0.3037974683544304, 'recall': 0.20689655172413793, 'f1-score': 0.24615384615384614, 'support': 116}, 'accuracy': 0.8013513513513514, 'macro avg': {'precision': 0.5823072061893181, 'recall': 0.5593777630415562, 'f1-score': 0.5658784794971564, 'support': 740}, 'weighted avg': {'precision': 0.7735003775678626, 'recall': 0.8013513513513514, 'f1-score': 0.7853651196841857, 'support': 740}}\n",
      "{'0.0': {'precision': 0.8565400843881856, 'recall': 0.9759615384615384, 'f1-score': 0.9123595505617978, 'support': 624}, '1.0': {'precision': 0.4827586206896552, 'recall': 0.1206896551724138, 'f1-score': 0.1931034482758621, 'support': 116}, 'accuracy': 0.8418918918918918, 'macro avg': {'precision': 0.6696493525389204, 'recall': 0.5483255968169761, 'f1-score': 0.5527314994188299, 'support': 740}, 'weighted avg': {'precision': 0.7979473144030107, 'recall': 0.8418918918918918, 'f1-score': 0.7996112966899483, 'support': 740}}\n",
      "{'0.0': {'precision': 0.8494475138121547, 'recall': 0.9855769230769231, 'f1-score': 0.9124629080118695, 'support': 624}, '1.0': {'precision': 0.4375, 'recall': 0.0603448275862069, 'f1-score': 0.10606060606060606, 'support': 116}, 'accuracy': 0.8405405405405405, 'macro avg': {'precision': 0.6434737569060773, 'recall': 0.522960875331565, 'f1-score': 0.5092617570362378, 'support': 740}, 'weighted avg': {'precision': 0.784871957592952, 'recall': 0.8405405405405405, 'f1-score': 0.7860538985168065, 'support': 740}}\n",
      "{'0.0': {'precision': 0.8284839203675345, 'recall': 0.9046822742474916, 'f1-score': 0.864908073541167, 'support': 598}, '1.0': {'precision': 0.3448275862068966, 'recall': 0.2112676056338028, 'f1-score': 0.2620087336244542, 'support': 142}, 'accuracy': 0.7716216216216216, 'macro avg': {'precision': 0.5866557532872155, 'recall': 0.5579749399406472, 'f1-score': 0.5634584035828106, 'support': 740}, 'weighted avg': {'precision': 0.7356741913799527, 'recall': 0.7716216216216216, 'f1-score': 0.7492165785841762, 'support': 740}}\n",
      "{'0.0': {'precision': 0.8217821782178217, 'recall': 0.9715719063545151, 'f1-score': 0.8904214559386974, 'support': 598}, '1.0': {'precision': 0.48484848484848486, 'recall': 0.11267605633802817, 'f1-score': 0.18285714285714288, 'support': 142}, 'accuracy': 0.8067567567567567, 'macro avg': {'precision': 0.6533153315331532, 'recall': 0.5421239813462716, 'f1-score': 0.5366392993979201, 'support': 740}, 'weighted avg': {'precision': 0.7571273343550571, 'recall': 0.8067567567567567, 'f1-score': 0.754645601266291, 'support': 740}}\n",
      "{'0.0': {'precision': 0.8126721763085399, 'recall': 0.9866220735785953, 'f1-score': 0.8912386706948641, 'support': 598}, '1.0': {'precision': 0.42857142857142855, 'recall': 0.04225352112676056, 'f1-score': 0.07692307692307691, 'support': 142}, 'accuracy': 0.8054054054054054, 'macro avg': {'precision': 0.6206218024399842, 'recall': 0.5144377973526779, 'f1-score': 0.48408087380897047, 'support': 740}, 'weighted avg': {'precision': 0.7389663571481753, 'recall': 0.8054054054054054, 'f1-score': 0.7349781108089265, 'support': 740}}\n",
      "{'0.0': {'precision': 0.8588957055214724, 'recall': 0.898876404494382, 'f1-score': 0.8784313725490196, 'support': 623}, '1.0': {'precision': 0.2840909090909091, 'recall': 0.21367521367521367, 'f1-score': 0.24390243902439027, 'support': 117}, 'accuracy': 0.7905405405405406, 'macro avg': {'precision': 0.5714933073061907, 'recall': 0.5562758090847978, 'f1-score': 0.5611669057867049, 'support': 740}, 'weighted avg': {'precision': 0.7680144066263699, 'recall': 0.7905405405405406, 'f1-score': 0.7781072033295849, 'support': 740}}\n",
      "{'0.0': {'precision': 0.8591749644381224, 'recall': 0.9695024077046549, 'f1-score': 0.9110105580693816, 'support': 623}, '1.0': {'precision': 0.4864864864864865, 'recall': 0.15384615384615385, 'f1-score': 0.23376623376623376, 'support': 117}, 'accuracy': 0.8405405405405405, 'macro avg': {'precision': 0.6728307254623045, 'recall': 0.5616742807754044, 'f1-score': 0.5723883959178077, 'support': 740}, 'weighted avg': {'precision': 0.8002498942754989, 'recall': 0.8405405405405405, 'f1-score': 0.8039327392268568, 'support': 740}}\n",
      "{'0.0': {'precision': 0.8522099447513812, 'recall': 0.9903691813804173, 'f1-score': 0.9161098737936154, 'support': 623}, '1.0': {'precision': 0.625, 'recall': 0.08547008547008547, 'f1-score': 0.15037593984962408, 'support': 117}, 'accuracy': 0.8472972972972973, 'macro avg': {'precision': 0.7386049723756907, 'recall': 0.5379196334252514, 'f1-score': 0.5332429068216198, 'support': 740}, 'weighted avg': {'precision': 0.8162862102433925, 'recall': 0.8472972972972973, 'f1-score': 0.7950411301835518, 'support': 740}}\n",
      "{'0.0': {'precision': 0.8424242424242424, 'recall': 0.9025974025974026, 'f1-score': 0.8714733542319749, 'support': 616}, '1.0': {'precision': 0.25, 'recall': 0.16129032258064516, 'f1-score': 0.19607843137254902, 'support': 124}, 'accuracy': 0.7783783783783784, 'macro avg': {'precision': 0.5462121212121211, 'recall': 0.5319438625890239, 'f1-score': 0.533775892802262, 'support': 740}, 'weighted avg': {'precision': 0.7431531531531531, 'recall': 0.7783783783783784, 'f1-score': 0.7582990698609359, 'support': 740}}\n",
      "{'0.0': {'precision': 0.8457223001402524, 'recall': 0.9788961038961039, 'f1-score': 0.9074492099322798, 'support': 616}, '1.0': {'precision': 0.5185185185185185, 'recall': 0.11290322580645161, 'f1-score': 0.18543046357615892, 'support': 124}, 'accuracy': 0.8337837837837838, 'macro avg': {'precision': 0.6821204093293854, 'recall': 0.5458996648512777, 'f1-score': 0.5464398367542194, 'support': 740}, 'weighted avg': {'precision': 0.7908935583549889, 'recall': 0.8337837837837838, 'f1-score': 0.7864622848672002, 'support': 740}}\n",
      "{'0.0': {'precision': 0.8413793103448276, 'recall': 0.9902597402597403, 'f1-score': 0.9097688292319165, 'support': 616}, '1.0': {'precision': 0.6, 'recall': 0.07258064516129033, 'f1-score': 0.12949640287769784, 'support': 124}, 'accuracy': 0.8364864864864865, 'macro avg': {'precision': 0.7206896551724138, 'recall': 0.5314201927105153, 'f1-score': 0.5196326160548072, 'support': 740}, 'weighted avg': {'precision': 0.8009319664492078, 'recall': 0.8364864864864865, 'f1-score': 0.7790204767076961, 'support': 740}}\n",
      "{'0.0': {'precision': 0.8540706605222734, 'recall': 0.8982229402261712, 'f1-score': 0.8755905511811023, 'support': 619}, '1.0': {'precision': 0.29213483146067415, 'recall': 0.21487603305785125, 'f1-score': 0.2476190476190476, 'support': 121}, 'accuracy': 0.7864864864864864, 'macro avg': {'precision': 0.5731027459914738, 'recall': 0.5565494866420112, 'f1-score': 0.5616047994000749, 'support': 740}, 'weighted avg': {'precision': 0.7621865587432823, 'recall': 0.7864864864864864, 'f1-score': 0.7729087242473068, 'support': 740}}\n",
      "{'0.0': {'precision': 0.8509142053445851, 'recall': 0.9773828756058158, 'f1-score': 0.9097744360902256, 'support': 619}, '1.0': {'precision': 0.5172413793103449, 'recall': 0.12396694214876033, 'f1-score': 0.2, 'support': 121}, 'accuracy': 0.8378378378378378, 'macro avg': {'precision': 0.684077792327465, 'recall': 0.5506749088772881, 'f1-score': 0.5548872180451128, 'support': 740}, 'weighted avg': {'precision': 0.7963541891957431, 'recall': 0.8378378378378378, 'f1-score': 0.7937167242430401, 'support': 740}}\n",
      "{'0.0': {'precision': 0.8480662983425414, 'recall': 0.9919224555735057, 'f1-score': 0.9143708116157856, 'support': 619}, '1.0': {'precision': 0.6875, 'recall': 0.09090909090909091, 'f1-score': 0.16058394160583941, 'support': 121}, 'accuracy': 0.8445945945945946, 'macro avg': {'precision': 0.7677831491712708, 'recall': 0.5414157732412983, 'f1-score': 0.5374773766108125, 'support': 740}, 'weighted avg': {'precision': 0.8218115387486934, 'recall': 0.8445945945945946, 'f1-score': 0.7911164720601054, 'support': 740}}\n",
      "{'0.0': {'precision': 0.8657407407407407, 'recall': 0.8961661341853036, 'f1-score': 0.8806907378335951, 'support': 626}, '1.0': {'precision': 0.2857142857142857, 'recall': 0.23008849557522124, 'f1-score': 0.2549019607843137, 'support': 113}, 'accuracy': 0.7943166441136671, 'macro avg': {'precision': 0.5757275132275133, 'recall': 0.5631273148802624, 'f1-score': 0.5677963493089544, 'support': 739}, 'weighted avg': {'precision': 0.777049280093935, 'recall': 0.7943166441136671, 'f1-score': 0.7850017908693612, 'support': 739}}\n",
      "{'0.0': {'precision': 0.8528995756718529, 'recall': 0.963258785942492, 'f1-score': 0.9047261815453865, 'support': 626}, '1.0': {'precision': 0.28125, 'recall': 0.07964601769911504, 'f1-score': 0.12413793103448276, 'support': 113}, 'accuracy': 0.8281461434370772, 'macro avg': {'precision': 0.5670747878359265, 'recall': 0.5214524018208035, 'f1-score': 0.5144320562899346, 'support': 739}, 'weighted avg': {'precision': 0.765489018092801, 'recall': 0.8281461434370772, 'f1-score': 0.7853669497351942, 'support': 739}}\n",
      "{'0.0': {'precision': 0.8516483516483516, 'recall': 0.9904153354632588, 'f1-score': 0.9158050221565731, 'support': 626}, '1.0': {'precision': 0.45454545454545453, 'recall': 0.04424778761061947, 'f1-score': 0.08064516129032258, 'support': 113}, 'accuracy': 0.8457374830852503, 'macro avg': {'precision': 0.653096903096903, 'recall': 0.5173315615369392, 'f1-score': 0.49822509172344787, 'support': 739}, 'weighted avg': {'precision': 0.7909276109546746, 'recall': 0.8457374830852503, 'f1-score': 0.7881012815910978, 'support': 739}}\n",
      "{'0.0': {'precision': 0.8290854572713643, 'recall': 0.9065573770491804, 'f1-score': 0.8660924040720439, 'support': 610}, '1.0': {'precision': 0.20833333333333334, 'recall': 0.11627906976744186, 'f1-score': 0.14925373134328357, 'support': 129}, 'accuracy': 0.7686062246278755, 'macro avg': {'precision': 0.5187093953023488, 'recall': 0.5114182234083111, 'f1-score': 0.5076730677076637, 'support': 739}, 'weighted avg': {'precision': 0.7207268321184469, 'recall': 0.7686062246278755, 'f1-score': 0.7409608901586338, 'support': 739}}\n",
      "{'0.0': {'precision': 0.8263305322128851, 'recall': 0.9672131147540983, 'f1-score': 0.891238670694864, 'support': 610}, '1.0': {'precision': 0.2, 'recall': 0.03875968992248062, 'f1-score': 0.06493506493506493, 'support': 129}, 'accuracy': 0.8051420838971584, 'macro avg': {'precision': 0.5131652661064425, 'recall': 0.5029864023382895, 'f1-score': 0.47808686781496446, 'support': 739}, 'weighted avg': {'precision': 0.7169981389037346, 'recall': 0.8051420838971584, 'f1-score': 0.7469989343714348, 'support': 739}}\n",
      "{'0.0': {'precision': 0.8253094910591472, 'recall': 0.9836065573770492, 'f1-score': 0.8975317875841435, 'support': 610}, '1.0': {'precision': 0.16666666666666666, 'recall': 0.015503875968992248, 'f1-score': 0.028368794326241134, 'support': 129}, 'accuracy': 0.8146143437077131, 'macro avg': {'precision': 0.4959880788629069, 'recall': 0.4995552166730207, 'f1-score': 0.46295029095519236, 'support': 739}, 'weighted avg': {'precision': 0.7103366570312311, 'recall': 0.8146143437077131, 'f1-score': 0.7458105072996112, 'support': 739}}\n"
     ]
    }
   ],
   "source": [
    "from sklearn import metrics\n",
    "for training,testing in s:\n",
    "    training_data=data_dropped_nom[training]\n",
    "    testing_data=data_dropped_nom[testing]\n",
    "    #kNN\n",
    "    from sklearn.neighbors import KNeighborsClassifier\n",
    "    knn3=KNeighborsClassifier(3)\n",
    "    knn9=KNeighborsClassifier(9)\n",
    "    knn15=KNeighborsClassifier(15)\n",
    "    knns=[knn3,knn9,knn15]\n",
    "    names=[\"knn3\",\"knn9\",\"knn15\"]\n",
    "    for i in knns:\n",
    "        i.fit(training_data[:,:-1],training_data[:,-1])\n",
    "        result=i.predict(testing_data[:,:-1])\n",
    "        report=metrics.classification_report(testing_data[:,-1],result,output_dict=True)\n",
    "        AUC=metrics.roc_auc_score(testing_data[:,-1],i.predict_proba(testing_data[:,:-1]))\n",
    "        print(report)\n",
    "        print(AUC)\n",
    "\n",
    "    # other models"
   ],
   "metadata": {
    "collapsed": false,
    "pycharm": {
     "name": "#%%\n"
    }
   }
  }
 ],
 "metadata": {
  "kernelspec": {
   "name": "python3",
   "language": "python",
   "display_name": "Python 3"
  },
  "language_info": {
   "codemirror_mode": {
    "name": "ipython",
    "version": 2
   },
   "file_extension": ".py",
   "mimetype": "text/x-python",
   "name": "python",
   "nbconvert_exporter": "python",
   "pygments_lexer": "ipython2",
   "version": "2.7.6"
  }
 },
 "nbformat": 4,
 "nbformat_minor": 0
}